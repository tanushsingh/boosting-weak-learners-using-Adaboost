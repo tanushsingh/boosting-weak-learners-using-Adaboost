{
 "cells": [
  {
   "cell_type": "code",
   "execution_count": 36,
   "id": "35843a5f-c5da-4c97-a0fc-d88616204dc3",
   "metadata": {},
   "outputs": [],
   "source": [
    "import numpy as np\n",
    "import pandas as pd\n",
    "from sklearn.model_selection import train_test_split\n",
    "from numpy.random import rand\n",
    "\n",
    "import matplotlib.pyplot as plt"
   ]
  },
  {
   "cell_type": "code",
   "execution_count": 37,
   "id": "eecf5880-e303-409a-8905-741889922408",
   "metadata": {},
   "outputs": [
    {
     "data": {
      "text/html": [
       "<div>\n",
       "<style scoped>\n",
       "    .dataframe tbody tr th:only-of-type {\n",
       "        vertical-align: middle;\n",
       "    }\n",
       "\n",
       "    .dataframe tbody tr th {\n",
       "        vertical-align: top;\n",
       "    }\n",
       "\n",
       "    .dataframe thead th {\n",
       "        text-align: right;\n",
       "    }\n",
       "</style>\n",
       "<table border=\"1\" class=\"dataframe\">\n",
       "  <thead>\n",
       "    <tr style=\"text-align: right;\">\n",
       "      <th></th>\n",
       "      <th>0</th>\n",
       "      <th>1</th>\n",
       "      <th>2</th>\n",
       "      <th>3</th>\n",
       "      <th>4</th>\n",
       "      <th>5</th>\n",
       "      <th>6</th>\n",
       "      <th>7</th>\n",
       "      <th>8</th>\n",
       "      <th>9</th>\n",
       "      <th>...</th>\n",
       "      <th>247</th>\n",
       "      <th>248</th>\n",
       "      <th>249</th>\n",
       "      <th>250</th>\n",
       "      <th>251</th>\n",
       "      <th>252</th>\n",
       "      <th>253</th>\n",
       "      <th>254</th>\n",
       "      <th>255</th>\n",
       "      <th>256</th>\n",
       "    </tr>\n",
       "  </thead>\n",
       "  <tbody>\n",
       "    <tr>\n",
       "      <th>0</th>\n",
       "      <td>1</td>\n",
       "      <td>-1.0</td>\n",
       "      <td>-1.0</td>\n",
       "      <td>-1.0</td>\n",
       "      <td>-0.813</td>\n",
       "      <td>-0.671</td>\n",
       "      <td>-0.809</td>\n",
       "      <td>-0.887</td>\n",
       "      <td>-0.671</td>\n",
       "      <td>-0.853</td>\n",
       "      <td>...</td>\n",
       "      <td>-0.671</td>\n",
       "      <td>-0.671</td>\n",
       "      <td>-0.033</td>\n",
       "      <td>0.761</td>\n",
       "      <td>0.762</td>\n",
       "      <td>0.126</td>\n",
       "      <td>-0.095</td>\n",
       "      <td>-0.671</td>\n",
       "      <td>-0.828</td>\n",
       "      <td>-1.0</td>\n",
       "    </tr>\n",
       "    <tr>\n",
       "      <th>1</th>\n",
       "      <td>-1</td>\n",
       "      <td>-1.0</td>\n",
       "      <td>-1.0</td>\n",
       "      <td>-1.0</td>\n",
       "      <td>-1.000</td>\n",
       "      <td>-1.000</td>\n",
       "      <td>-0.928</td>\n",
       "      <td>-0.204</td>\n",
       "      <td>0.751</td>\n",
       "      <td>0.466</td>\n",
       "      <td>...</td>\n",
       "      <td>0.466</td>\n",
       "      <td>0.639</td>\n",
       "      <td>1.000</td>\n",
       "      <td>1.000</td>\n",
       "      <td>0.791</td>\n",
       "      <td>0.439</td>\n",
       "      <td>-0.199</td>\n",
       "      <td>-0.883</td>\n",
       "      <td>-1.000</td>\n",
       "      <td>-1.0</td>\n",
       "    </tr>\n",
       "    <tr>\n",
       "      <th>2</th>\n",
       "      <td>-1</td>\n",
       "      <td>-1.0</td>\n",
       "      <td>-1.0</td>\n",
       "      <td>-1.0</td>\n",
       "      <td>-0.830</td>\n",
       "      <td>0.442</td>\n",
       "      <td>1.000</td>\n",
       "      <td>1.000</td>\n",
       "      <td>0.479</td>\n",
       "      <td>-0.328</td>\n",
       "      <td>...</td>\n",
       "      <td>1.000</td>\n",
       "      <td>0.671</td>\n",
       "      <td>0.345</td>\n",
       "      <td>-0.507</td>\n",
       "      <td>-1.000</td>\n",
       "      <td>-1.000</td>\n",
       "      <td>-1.000</td>\n",
       "      <td>-1.000</td>\n",
       "      <td>-1.000</td>\n",
       "      <td>-1.0</td>\n",
       "    </tr>\n",
       "    <tr>\n",
       "      <th>3</th>\n",
       "      <td>-1</td>\n",
       "      <td>-1.0</td>\n",
       "      <td>-1.0</td>\n",
       "      <td>-1.0</td>\n",
       "      <td>-1.000</td>\n",
       "      <td>-1.000</td>\n",
       "      <td>-0.104</td>\n",
       "      <td>0.549</td>\n",
       "      <td>0.579</td>\n",
       "      <td>0.579</td>\n",
       "      <td>...</td>\n",
       "      <td>0.388</td>\n",
       "      <td>0.579</td>\n",
       "      <td>0.811</td>\n",
       "      <td>1.000</td>\n",
       "      <td>1.000</td>\n",
       "      <td>0.715</td>\n",
       "      <td>0.107</td>\n",
       "      <td>-0.526</td>\n",
       "      <td>-1.000</td>\n",
       "      <td>-1.0</td>\n",
       "    </tr>\n",
       "    <tr>\n",
       "      <th>4</th>\n",
       "      <td>-1</td>\n",
       "      <td>-1.0</td>\n",
       "      <td>-1.0</td>\n",
       "      <td>-1.0</td>\n",
       "      <td>-1.000</td>\n",
       "      <td>-1.000</td>\n",
       "      <td>-1.000</td>\n",
       "      <td>-0.107</td>\n",
       "      <td>1.000</td>\n",
       "      <td>1.000</td>\n",
       "      <td>...</td>\n",
       "      <td>-0.280</td>\n",
       "      <td>0.322</td>\n",
       "      <td>0.813</td>\n",
       "      <td>1.000</td>\n",
       "      <td>1.000</td>\n",
       "      <td>0.633</td>\n",
       "      <td>-0.144</td>\n",
       "      <td>-0.994</td>\n",
       "      <td>-1.000</td>\n",
       "      <td>-1.0</td>\n",
       "    </tr>\n",
       "  </tbody>\n",
       "</table>\n",
       "<p>5 rows × 257 columns</p>\n",
       "</div>"
      ],
      "text/plain": [
       "   0    1    2    3      4      5      6      7      8      9    ...    247  \\\n",
       "0    1 -1.0 -1.0 -1.0 -0.813 -0.671 -0.809 -0.887 -0.671 -0.853  ... -0.671   \n",
       "1   -1 -1.0 -1.0 -1.0 -1.000 -1.000 -0.928 -0.204  0.751  0.466  ...  0.466   \n",
       "2   -1 -1.0 -1.0 -1.0 -0.830  0.442  1.000  1.000  0.479 -0.328  ...  1.000   \n",
       "3   -1 -1.0 -1.0 -1.0 -1.000 -1.000 -0.104  0.549  0.579  0.579  ...  0.388   \n",
       "4   -1 -1.0 -1.0 -1.0 -1.000 -1.000 -1.000 -0.107  1.000  1.000  ... -0.280   \n",
       "\n",
       "     248    249    250    251    252    253    254    255  256  \n",
       "0 -0.671 -0.033  0.761  0.762  0.126 -0.095 -0.671 -0.828 -1.0  \n",
       "1  0.639  1.000  1.000  0.791  0.439 -0.199 -0.883 -1.000 -1.0  \n",
       "2  0.671  0.345 -0.507 -1.000 -1.000 -1.000 -1.000 -1.000 -1.0  \n",
       "3  0.579  0.811  1.000  1.000  0.715  0.107 -0.526 -1.000 -1.0  \n",
       "4  0.322  0.813  1.000  1.000  0.633 -0.144 -0.994 -1.000 -1.0  \n",
       "\n",
       "[5 rows x 257 columns]"
      ]
     },
     "execution_count": 37,
     "metadata": {},
     "output_type": "execute_result"
    }
   ],
   "source": [
    "train_data=pd.read_csv(\"1646102559_507402_train35.txt\", header=None)\n",
    "test_data=pd.read_csv(\"1646102559_513849_test35-nolabels.txt\", header=None)\n",
    "test_data.head()\n",
    "\n",
    "#replacing 5's with 1's and 3's with -1's\n",
    "train_data[0] = train_data[0].replace(5,1)\n",
    "train_data[0] = train_data[0].replace(3,-1)\n",
    "\n",
    "train_data.head()"
   ]
  },
  {
   "cell_type": "code",
   "execution_count": 72,
   "id": "d686da29-ddb8-49db-9bdc-72e22818d8f4",
   "metadata": {},
   "outputs": [
    {
     "data": {
      "text/plain": [
       "(1214, 257)"
      ]
     },
     "execution_count": 72,
     "metadata": {},
     "output_type": "execute_result"
    }
   ],
   "source": [
    "# fives = train_data.loc[train_data[0] == 1]\n",
    "# threes = train_data.loc[train_data[0] == 0]\n",
    " \n",
    "# fives\n",
    "# train_data.shape"
   ]
  },
  {
   "cell_type": "code",
   "execution_count": 39,
   "id": "a4f3322e-4da4-4c7e-9394-4830441c37c8",
   "metadata": {},
   "outputs": [
    {
     "data": {
      "text/html": [
       "<div>\n",
       "<style scoped>\n",
       "    .dataframe tbody tr th:only-of-type {\n",
       "        vertical-align: middle;\n",
       "    }\n",
       "\n",
       "    .dataframe tbody tr th {\n",
       "        vertical-align: top;\n",
       "    }\n",
       "\n",
       "    .dataframe thead th {\n",
       "        text-align: right;\n",
       "    }\n",
       "</style>\n",
       "<table border=\"1\" class=\"dataframe\">\n",
       "  <thead>\n",
       "    <tr style=\"text-align: right;\">\n",
       "      <th></th>\n",
       "      <th>1</th>\n",
       "      <th>2</th>\n",
       "      <th>3</th>\n",
       "      <th>4</th>\n",
       "      <th>5</th>\n",
       "      <th>6</th>\n",
       "      <th>7</th>\n",
       "      <th>8</th>\n",
       "      <th>9</th>\n",
       "      <th>10</th>\n",
       "      <th>...</th>\n",
       "      <th>247</th>\n",
       "      <th>248</th>\n",
       "      <th>249</th>\n",
       "      <th>250</th>\n",
       "      <th>251</th>\n",
       "      <th>252</th>\n",
       "      <th>253</th>\n",
       "      <th>254</th>\n",
       "      <th>255</th>\n",
       "      <th>256</th>\n",
       "    </tr>\n",
       "  </thead>\n",
       "  <tbody>\n",
       "    <tr>\n",
       "      <th>805</th>\n",
       "      <td>-1.0</td>\n",
       "      <td>-1.000</td>\n",
       "      <td>-1.000</td>\n",
       "      <td>-1.000</td>\n",
       "      <td>-1.000</td>\n",
       "      <td>-1.000</td>\n",
       "      <td>-1.000</td>\n",
       "      <td>-1.000</td>\n",
       "      <td>-1.000</td>\n",
       "      <td>-1.000</td>\n",
       "      <td>...</td>\n",
       "      <td>-0.551</td>\n",
       "      <td>0.237</td>\n",
       "      <td>0.975</td>\n",
       "      <td>1.000</td>\n",
       "      <td>0.862</td>\n",
       "      <td>0.034</td>\n",
       "      <td>-0.989</td>\n",
       "      <td>-1.0</td>\n",
       "      <td>-1.0</td>\n",
       "      <td>-1.0</td>\n",
       "    </tr>\n",
       "    <tr>\n",
       "      <th>925</th>\n",
       "      <td>-1.0</td>\n",
       "      <td>-1.000</td>\n",
       "      <td>-1.000</td>\n",
       "      <td>-1.000</td>\n",
       "      <td>-1.000</td>\n",
       "      <td>-1.000</td>\n",
       "      <td>-1.000</td>\n",
       "      <td>-1.000</td>\n",
       "      <td>-1.000</td>\n",
       "      <td>-1.000</td>\n",
       "      <td>...</td>\n",
       "      <td>-1.000</td>\n",
       "      <td>-1.000</td>\n",
       "      <td>-1.000</td>\n",
       "      <td>-1.000</td>\n",
       "      <td>-1.000</td>\n",
       "      <td>-1.000</td>\n",
       "      <td>-1.000</td>\n",
       "      <td>-1.0</td>\n",
       "      <td>-1.0</td>\n",
       "      <td>-1.0</td>\n",
       "    </tr>\n",
       "    <tr>\n",
       "      <th>390</th>\n",
       "      <td>-1.0</td>\n",
       "      <td>-0.883</td>\n",
       "      <td>-0.133</td>\n",
       "      <td>-0.272</td>\n",
       "      <td>-0.879</td>\n",
       "      <td>-1.000</td>\n",
       "      <td>-1.000</td>\n",
       "      <td>-1.000</td>\n",
       "      <td>-1.000</td>\n",
       "      <td>-1.000</td>\n",
       "      <td>...</td>\n",
       "      <td>-0.613</td>\n",
       "      <td>-0.613</td>\n",
       "      <td>-0.613</td>\n",
       "      <td>-0.829</td>\n",
       "      <td>-1.000</td>\n",
       "      <td>-1.000</td>\n",
       "      <td>-1.000</td>\n",
       "      <td>-1.0</td>\n",
       "      <td>-1.0</td>\n",
       "      <td>-1.0</td>\n",
       "    </tr>\n",
       "    <tr>\n",
       "      <th>909</th>\n",
       "      <td>-1.0</td>\n",
       "      <td>-1.000</td>\n",
       "      <td>-1.000</td>\n",
       "      <td>-1.000</td>\n",
       "      <td>-1.000</td>\n",
       "      <td>-0.851</td>\n",
       "      <td>-0.242</td>\n",
       "      <td>0.164</td>\n",
       "      <td>0.569</td>\n",
       "      <td>1.000</td>\n",
       "      <td>...</td>\n",
       "      <td>0.407</td>\n",
       "      <td>0.310</td>\n",
       "      <td>-0.185</td>\n",
       "      <td>-0.688</td>\n",
       "      <td>-0.887</td>\n",
       "      <td>-1.000</td>\n",
       "      <td>-1.000</td>\n",
       "      <td>-1.0</td>\n",
       "      <td>-1.0</td>\n",
       "      <td>-1.0</td>\n",
       "    </tr>\n",
       "    <tr>\n",
       "      <th>269</th>\n",
       "      <td>-1.0</td>\n",
       "      <td>-1.000</td>\n",
       "      <td>-1.000</td>\n",
       "      <td>-0.713</td>\n",
       "      <td>0.016</td>\n",
       "      <td>0.644</td>\n",
       "      <td>1.000</td>\n",
       "      <td>0.960</td>\n",
       "      <td>0.502</td>\n",
       "      <td>-0.254</td>\n",
       "      <td>...</td>\n",
       "      <td>-0.045</td>\n",
       "      <td>-0.475</td>\n",
       "      <td>-0.837</td>\n",
       "      <td>-1.000</td>\n",
       "      <td>-1.000</td>\n",
       "      <td>-1.000</td>\n",
       "      <td>-1.000</td>\n",
       "      <td>-1.0</td>\n",
       "      <td>-1.0</td>\n",
       "      <td>-1.0</td>\n",
       "    </tr>\n",
       "  </tbody>\n",
       "</table>\n",
       "<p>5 rows × 256 columns</p>\n",
       "</div>"
      ],
      "text/plain": [
       "     1      2      3      4      5      6      7      8      9      10   ...  \\\n",
       "805 -1.0 -1.000 -1.000 -1.000 -1.000 -1.000 -1.000 -1.000 -1.000 -1.000  ...   \n",
       "925 -1.0 -1.000 -1.000 -1.000 -1.000 -1.000 -1.000 -1.000 -1.000 -1.000  ...   \n",
       "390 -1.0 -0.883 -0.133 -0.272 -0.879 -1.000 -1.000 -1.000 -1.000 -1.000  ...   \n",
       "909 -1.0 -1.000 -1.000 -1.000 -1.000 -0.851 -0.242  0.164  0.569  1.000  ...   \n",
       "269 -1.0 -1.000 -1.000 -0.713  0.016  0.644  1.000  0.960  0.502 -0.254  ...   \n",
       "\n",
       "       247    248    249    250    251    252    253  254  255  256  \n",
       "805 -0.551  0.237  0.975  1.000  0.862  0.034 -0.989 -1.0 -1.0 -1.0  \n",
       "925 -1.000 -1.000 -1.000 -1.000 -1.000 -1.000 -1.000 -1.0 -1.0 -1.0  \n",
       "390 -0.613 -0.613 -0.613 -0.829 -1.000 -1.000 -1.000 -1.0 -1.0 -1.0  \n",
       "909  0.407  0.310 -0.185 -0.688 -0.887 -1.000 -1.000 -1.0 -1.0 -1.0  \n",
       "269 -0.045 -0.475 -0.837 -1.000 -1.000 -1.000 -1.000 -1.0 -1.0 -1.0  \n",
       "\n",
       "[5 rows x 256 columns]"
      ]
     },
     "execution_count": 39,
     "metadata": {},
     "output_type": "execute_result"
    }
   ],
   "source": [
    "\n",
    "X= train_data.drop([0], axis = 1)\n",
    "y = train_data[0]\n",
    "\n",
    "\n",
    "#X = train_data\n",
    "\n",
    "X_train, X_test, y_train, y_test = train_test_split(X , y, test_size = 0.2, random_state = 20)\n",
    "X_train.head()"
   ]
  },
  {
   "cell_type": "code",
   "execution_count": 40,
   "id": "bd29b894-8d23-4425-8722-cb27d4676137",
   "metadata": {},
   "outputs": [],
   "source": [
    "stump = {}\n",
    "#Splitting rows based on the selected feature\n",
    "def get_split(df, value, columnName):\n",
    "    left, right = list(), list()\n",
    "    for rowIndex, rowData in df.iterrows():\n",
    "#         print(rowData)\n",
    "        if rowData[1] < value:\n",
    "            left.append(rowData)\n",
    "        else:\n",
    "            right.append(rowData)\n",
    "            \n",
    "    return left,right\n",
    "\n",
    "#Calculate gini index for the given split\n",
    "def calculate_gini(groups, classes):\n",
    "    gini = 0.0\n",
    "    inst = float(sum([len(group) for group in groups]))\n",
    "    for group in groups:\n",
    "        size = float(len(group))\n",
    "        if size == 0:\n",
    "            continue\n",
    "        score = 0.0\n",
    "        for class_value in classes:\n",
    "            p_t = [row[0] for row in group].count(class_value) / size\n",
    "            score += p_t ** 2\n",
    "            \n",
    "        gini += (1.0 - score) * (size/inst)\n",
    "            \n",
    "    return gini\n",
    "\n",
    "#Finding the right split to choose\n",
    "def fit_stump(X_train, y_train):\n",
    "    global stump\n",
    "    df = pd.DataFrame()\n",
    "    df[0] = X_train[0]\n",
    "    for (columnName, columnData) in X_train.drop([0], axis = 1).iteritems():\n",
    "        #Initializing values\n",
    "        best_column, best_value, best_score, best_group = float('inf'), float('inf'), float('inf'), None \n",
    "\n",
    "        #For finding the best stump, we check all the row values of the selected feature to fing the best value for splitting\n",
    "        for rowIndex, rowData in X_train.iterrows():\n",
    "            rowData.tolist()\n",
    "            groups =  get_split(columnData.values, rowData[columnName], columnName)\n",
    "            gini_index = calculate_gini(groups, y_train)\n",
    "            if gini_index < best_score:\n",
    "                best_column = columnName\n",
    "                best_value = rowData[columnName]\n",
    "                best_score = gini_index\n",
    "                best_group = groups\n",
    "        \n",
    "#         df[1] = X_train[columnName]\n",
    "    \n",
    "#         col_max = X_train[columnName].max()\n",
    "#         col_min = X_train[columnName].min()\n",
    "#         r = col_max - col_min\n",
    "#         step = r/5\n",
    "# #         print(columnName)\n",
    "#         splits = np.arange(col_min, col_max, step)\n",
    "            \n",
    "#         for value in splits:\n",
    "#             groups =  get_split(df, value, columnName)\n",
    "#             gini_index = calculate_gini(groups, y_train)\n",
    "#             if gini_index < best_score:\n",
    "#                 best_column = columnName\n",
    "#                 best_value = value\n",
    "#                 best_score = gini_index\n",
    "#                 best_group = groups\n",
    "    stump = {'column' : best_column, 'value' : best_value, 'groups' : best_group}\n",
    "    return stump\n",
    "\n",
    "def stump_predict(stump, X):\n",
    "\tif X[stump['column']] < stump['value']:\n",
    "\t\tif isinstance(stump['groups'][0], dict):\n",
    "\t\t\treturn predict(stump['groups'][0], X)\n",
    "\t\telse:\n",
    "\t\t\treturn stump['groups'][0]\n",
    "\telse:\n",
    "\t\tif isinstance(stump['groups'][1], dict):\n",
    "\t\t\treturn predict(stump['groups'][1], X)\n",
    "\t\telse:\n",
    "\t\t\treturn stump['groups'][1]           \n",
    "\n",
    "    "
   ]
  },
  {
   "cell_type": "code",
   "execution_count": 41,
   "id": "4d1be8fa-1348-480b-890c-c99d395019ae",
   "metadata": {
    "tags": []
   },
   "outputs": [],
   "source": [
    "# stump = fit_stump(X_train, y_train)\n",
    "# find_split(X_train, y_train)\n"
   ]
  },
  {
   "cell_type": "code",
   "execution_count": 42,
   "id": "6303ba9f-55b1-4d79-814c-9e2f066be5f0",
   "metadata": {},
   "outputs": [],
   "source": [
    "def get_error(y, y_pred, wt):\n",
    "    return (sum(wt * (np.not_equal(y, y_pred)).astype(int)))/sum(wt)\n",
    "\n",
    "def get_alpha(error):\n",
    "    return np.log((1 - error) / error)\n",
    "\n",
    "def update_weights(wt, alpha, y, y_pred):\n",
    "    return wt * np.exp(alpha * (np.not_equal(y, y_pred)).astype(int))"
   ]
  },
  {
   "cell_type": "code",
   "execution_count": 46,
   "id": "e6e7cc2a-f635-4c96-bfc8-085550ddfc26",
   "metadata": {},
   "outputs": [],
   "source": [
    "from sklearn.tree import DecisionTreeClassifier\n",
    "\n",
    "alpha = []\n",
    "\n",
    "G_M = []\n",
    "# feature_count = None\n",
    "\n",
    "train_errors = []\n",
    "# prediction_errors = []\n",
    "\n",
    "def fit(X, y, feature_count = 200):\n",
    "    global alpha\n",
    "    global train_errors\n",
    "    alpha = []\n",
    "    train_errors = []\n",
    "#     feature_count = M\n",
    "    feature_count = feature_count\n",
    "    for m in range(0, feature_count):\n",
    "            \n",
    "        if m == 0:\n",
    "            wt = np.ones(len(y)) * 1 / len(y) \n",
    "        else:\n",
    "\n",
    "            wt = update_weights(wt, classifier_alpha, y, y_pred)\n",
    "            \n",
    "        G_m = DecisionTreeClassifier(max_depth = 1) \n",
    "        G_m.fit(X, y, sample_weight = wt)\n",
    "        y_pred = G_m.predict(X)\n",
    "            \n",
    "        G_M.append(G_m) \n",
    "\n",
    "        class_error = get_error(y, y_pred, wt)\n",
    "        train_errors.append(class_error)\n",
    "\n",
    "        classifier_alpha = get_alpha(class_error)\n",
    "        alpha.append(classifier_alpha)\n",
    "\n",
    "#     assert len(self.G_M) == len(self.alphas)\n",
    "def predict(X, feature_count):\n",
    "\n",
    "    weak_preds = pd.DataFrame(index = range(len(X)), columns = range(feature_count)) \n",
    "\n",
    "    for m in range(feature_count):\n",
    "        y_pred_m = G_M[m].predict(X) * alpha[m]\n",
    "        weak_preds.iloc[:,m] = y_pred_m\n",
    "\n",
    "    y_pred = (1 * np.sign(weak_preds.T.sum())).astype(int)\n",
    "\n",
    "    return y_pred"
   ]
  },
  {
   "cell_type": "code",
   "execution_count": 47,
   "id": "4f8b5673-aa15-49b1-b554-2e6dd8ba8779",
   "metadata": {},
   "outputs": [
    {
     "name": "stdout",
     "output_type": "stream",
     "text": [
      "0     -1\n",
      "1     -1\n",
      "2     -1\n",
      "3      1\n",
      "4      1\n",
      "      ..\n",
      "238    1\n",
      "239   -1\n",
      "240    1\n",
      "241   -1\n",
      "242   -1\n",
      "Length: 243, dtype: int64\n"
     ]
    }
   ],
   "source": [
    "# ab = AdaBoost()\n",
    "feature_count = 200\n",
    "fit(X_train, y_train, feature_count)\n",
    "\n",
    "y_pred = predict(X_test, feature_count)\n",
    "print(y_pred)"
   ]
  },
  {
   "cell_type": "code",
   "execution_count": 55,
   "id": "8af19712-955c-4198-bef1-ea7f0c805665",
   "metadata": {},
   "outputs": [
    {
     "name": "stdout",
     "output_type": "stream",
     "text": [
      "The training error for this classification model is: 0.36782074160396677\n"
     ]
    }
   ],
   "source": [
    "training_error = train_errors[-1]\n",
    "\n",
    "print('The training error for this classification model is:', training_error)"
   ]
  },
  {
   "cell_type": "code",
   "execution_count": 79,
   "id": "61aadf8c-83d0-4b8e-8077-d4d82592b36d",
   "metadata": {},
   "outputs": [
    {
     "name": "stdout",
     "output_type": "stream",
     "text": [
      "243 256\n",
      "Test_model <class 'pandas.core.series.Series'>\n",
      "The testing error for this classification model is: 1.9094650205761317\n",
      "[1.9094650205761317]\n"
     ]
    }
   ],
   "source": [
    "test_errors = []\n",
    "y_test_pred=predict(test_data,feature_count = 50)  \n",
    "testing_error = 0\n",
    "m,n=X_test.shape\n",
    "print(m,n)\n",
    "print(\"Test_model\",type(y_test))\n",
    "for i in range(m):\n",
    "    out = y_test_pred.iloc[i] - y_test.iloc[i] \n",
    "    out = out*out \n",
    "    testing_error+=out\n",
    "\n",
    "\n",
    "testing_error = testing_error/m\n",
    "print('The testing error for this classification model is:', testing_error)\n",
    "\n",
    "test_errors.append(testing_error)\n",
    "print(test_errors)"
   ]
  },
  {
   "cell_type": "code",
   "execution_count": 80,
   "id": "1aa5a98c-fd8a-4386-b9a8-cd85a4a66075",
   "metadata": {},
   "outputs": [
    {
     "name": "stdout",
     "output_type": "stream",
     "text": [
      "243 256\n",
      "Test_model <class 'pandas.core.series.Series'>\n",
      "The testing error for this classification model is: 1.9094650205761317\n",
      "[1.9094650205761317, 1.9094650205761317]\n"
     ]
    }
   ],
   "source": [
    "y_test_pred=predict(test_data,feature_count = 75)  \n",
    "\n",
    "testing_error = 0\n",
    "m,n=X_test.shape\n",
    "print(m,n)\n",
    "print(\"Test_model\",type(y_test))\n",
    "for i in range(m):\n",
    "    out = y_test_pred.iloc[i] - y_test.iloc[i] \n",
    "    out = out*out \n",
    "    testing_error+=out\n",
    "\n",
    "\n",
    "testing_error = testing_error/m\n",
    "print('The testing error for this classification model is:', testing_error)\n",
    "\n",
    "test_errors.append(testing_error)\n",
    "print(test_errors)"
   ]
  },
  {
   "cell_type": "code",
   "execution_count": 81,
   "id": "89a3ae01-c347-48d1-bffe-8065fe22d659",
   "metadata": {},
   "outputs": [
    {
     "name": "stdout",
     "output_type": "stream",
     "text": [
      "243 256\n",
      "Test_model <class 'pandas.core.series.Series'>\n",
      "The testing error for this classification model is: 1.9259259259259258\n",
      "[1.9094650205761317, 1.9094650205761317, 1.9259259259259258]\n"
     ]
    }
   ],
   "source": [
    "y_test_pred=predict(test_data,feature_count = 100)  \n",
    "\n",
    "testing_error = 0\n",
    "m,n=X_test.shape\n",
    "print(m,n)\n",
    "print(\"Test_model\",type(y_test))\n",
    "for i in range(m):\n",
    "    out = y_test_pred.iloc[i] - y_test.iloc[i] \n",
    "    out = out*out \n",
    "    testing_error+=out\n",
    "\n",
    "\n",
    "testing_error = testing_error/m\n",
    "print('The testing error for this classification model is:', testing_error)\n",
    "\n",
    "test_errors.append(testing_error)\n",
    "print(test_errors)"
   ]
  },
  {
   "cell_type": "code",
   "execution_count": 82,
   "id": "236116cc-b949-4097-843e-29f2fd68d7a1",
   "metadata": {},
   "outputs": [
    {
     "name": "stdout",
     "output_type": "stream",
     "text": [
      "243 256\n",
      "Test_model <class 'pandas.core.series.Series'>\n",
      "The testing error for this classification model is: 1.9094650205761317\n",
      "[1.9094650205761317, 1.9094650205761317, 1.9259259259259258, 1.9094650205761317]\n"
     ]
    }
   ],
   "source": [
    "y_test_pred=predict(test_data,feature_count = 125)  \n",
    "\n",
    "testing_error = 0\n",
    "m,n=X_test.shape\n",
    "print(m,n)\n",
    "print(\"Test_model\",type(y_test))\n",
    "for i in range(m):\n",
    "    out = y_test_pred.iloc[i] - y_test.iloc[i] \n",
    "    out = out*out \n",
    "    testing_error+=out\n",
    "\n",
    "\n",
    "testing_error = testing_error/m\n",
    "print('The testing error for this classification model is:', testing_error)\n",
    "\n",
    "test_errors.append(testing_error)\n",
    "print(test_errors)"
   ]
  },
  {
   "cell_type": "code",
   "execution_count": 83,
   "id": "5b2c120b-a406-4c90-8ab3-a2dde058b62c",
   "metadata": {},
   "outputs": [
    {
     "name": "stdout",
     "output_type": "stream",
     "text": [
      "243 256\n",
      "Test_model <class 'pandas.core.series.Series'>\n",
      "The testing error for this classification model is: 1.8930041152263375\n",
      "[1.9094650205761317, 1.9094650205761317, 1.9259259259259258, 1.9094650205761317, 1.8930041152263375]\n"
     ]
    }
   ],
   "source": [
    "y_test_pred=predict(test_data,feature_count = 150)  \n",
    "\n",
    "testing_error = 0\n",
    "m,n=X_test.shape\n",
    "print(m,n)\n",
    "print(\"Test_model\",type(y_test))\n",
    "for i in range(m):\n",
    "    out = y_test_pred.iloc[i] - y_test.iloc[i] \n",
    "    out = out*out \n",
    "    testing_error+=out\n",
    "\n",
    "\n",
    "testing_error = testing_error/m\n",
    "print('The testing error for this classification model is:', testing_error)\n",
    "\n",
    "test_errors.append(testing_error)\n",
    "print(test_errors)"
   ]
  },
  {
   "cell_type": "code",
   "execution_count": 84,
   "id": "c1627058-e7b3-435a-99f8-b6ec100d200f",
   "metadata": {},
   "outputs": [
    {
     "name": "stdout",
     "output_type": "stream",
     "text": [
      "243 256\n",
      "Test_model <class 'pandas.core.series.Series'>\n",
      "The testing error for this classification model is: 1.8930041152263375\n",
      "[1.9094650205761317, 1.9094650205761317, 1.9259259259259258, 1.9094650205761317, 1.8930041152263375, 1.8930041152263375]\n"
     ]
    }
   ],
   "source": [
    "y_test_pred=predict(test_data,feature_count = 175)  \n",
    "\n",
    "testing_error = 0\n",
    "m,n=X_test.shape\n",
    "print(m,n)\n",
    "print(\"Test_model\",type(y_test))\n",
    "for i in range(m):\n",
    "    out = y_test_pred.iloc[i] - y_test.iloc[i] \n",
    "    out = out*out \n",
    "    testing_error+=out\n",
    "\n",
    "\n",
    "testing_error = testing_error/m\n",
    "print('The testing error for this classification model is:', testing_error)\n",
    "\n",
    "test_errors.append(testing_error)\n",
    "print(test_errors)"
   ]
  },
  {
   "cell_type": "code",
   "execution_count": 85,
   "id": "2b0b1ea0-c9a7-4529-bf96-1f5bc6f97ffd",
   "metadata": {},
   "outputs": [
    {
     "name": "stdout",
     "output_type": "stream",
     "text": [
      "243 256\n",
      "Test_model <class 'pandas.core.series.Series'>\n",
      "The testing error for this classification model is: 1.9094650205761317\n",
      "[1.9094650205761317, 1.9094650205761317, 1.9259259259259258, 1.9094650205761317, 1.8930041152263375, 1.8930041152263375, 1.9094650205761317]\n"
     ]
    }
   ],
   "source": [
    "y_test_pred=predict(test_data,feature_count = 200)  \n",
    "\n",
    "testing_error = 0\n",
    "m,n=X_test.shape\n",
    "print(m,n)\n",
    "print(\"Test_model\",type(y_test))\n",
    "for i in range(m):\n",
    "    out = y_test_pred.iloc[i] - y_test.iloc[i] \n",
    "    out = out*out \n",
    "    testing_error+=out\n",
    "\n",
    "\n",
    "testing_error = testing_error/m\n",
    "print('The testing error for this classification model is:', testing_error)\n",
    "\n",
    "test_errors.append(testing_error)\n",
    "\n",
    "print(test_errors)"
   ]
  },
  {
   "cell_type": "code",
   "execution_count": 69,
   "id": "b865c3e8-cd28-4229-b967-0842054b81e5",
   "metadata": {},
   "outputs": [
    {
     "data": {
      "text/plain": [
       "[<matplotlib.lines.Line2D at 0x7fafb8503d00>]"
      ]
     },
     "execution_count": 69,
     "metadata": {},
     "output_type": "execute_result"
    },
    {
     "data": {
      "image/png": "[encoded data removed]",
      "text/plain": [
       "<Figure size 432x288 with 1 Axes>"
      ]
     },
     "metadata": {
      "needs_background": "light"
     },
     "output_type": "display_data"
    }
   ],
   "source": [
    "plt.plot(range(1,201),train_errors, label = \"Training error\", linestyle = \"-\")\n"
   ]
  },
  {
   "cell_type": "code",
   "execution_count": 28,
   "id": "a434d85f-9627-4ee8-b2cb-8954db7e7c31",
   "metadata": {
    "tags": []
   },
   "outputs": [],
   "source": [
    "# print(stump['value'])"
   ]
  },
  {
   "cell_type": "code",
   "execution_count": 86,
   "id": "dafa673d-2a4c-4e7b-a947-e9eb8c7bedb2",
   "metadata": {},
   "outputs": [
    {
     "data": {
      "text/plain": [
       "[<matplotlib.lines.Line2D at 0x7faf9b42a490>]"
      ]
     },
     "execution_count": 86,
     "metadata": {},
     "output_type": "execute_result"
    },
    {
     "data": {
      "image/png": "[encoded data removed]",
      "text/plain": [
       "<Figure size 432x288 with 1 Axes>"
      ]
     },
     "metadata": {
      "needs_background": "light"
     },
     "output_type": "display_data"
    }
   ],
   "source": [
    "plt.plot((50,75,100,125,150,175,200),test_errors, label = \"Test error\", linestyle = \"solid\", color = \"red\")"
   ]
  },
  {
   "cell_type": "code",
   "execution_count": 29,
   "id": "35a58e94-65da-458c-bdfd-59353ee8fe45",
   "metadata": {},
   "outputs": [],
   "source": [
    "# col_max = X_train[256].max()\n",
    "# col_min = X_train[256].min()\n",
    "# r = col_max - col_min\n",
    "# #         splits = []\n",
    "# #         split = col_min\n",
    "# step = r/5\n",
    "        \n",
    "# # df[1] = X_train[columnName]\n",
    "# # print(columnName)\n",
    "# splits = np.arange(col_min, col_max, step)\n",
    "# print(splits[1])"
   ]
  },
  {
   "cell_type": "raw",
   "id": "963b70db-3324-4ada-ace0-7b8c33f152e3",
   "metadata": {},
   "source": [
    "y_pred = predict(X_test, feature_count)\n",
    "print(y_pred)"
   ]
  },
  {
   "cell_type": "code",
   "execution_count": null,
   "id": "0f14ad36-42c2-461d-b191-fff8c135e3f6",
   "metadata": {},
   "outputs": [],
   "source": [
    "y_test_pred=ab.predict(test_data)"
   ]
  },
  {
   "cell_type": "code",
   "execution_count": null,
   "id": "088ab53b-bff6-42da-8e7e-8dc05426617b",
   "metadata": {},
   "outputs": [],
   "source": [
    "testFile=open('output.txt','w')\n",
    "for element in y_test_pred:\n",
    "        if element == -1:\n",
    "            testFile.write('3')\n",
    "        else:\n",
    "            testFile.write('5')\n",
    "        testFile.write('\\n')\n",
    "testFile.close()"
   ]
  }
 ],
 "metadata": {
  "kernelspec": {
   "display_name": "Python 3",
   "language": "python",
   "name": "python3"
  },
  "language_info": {
   "codemirror_mode": {
    "name": "ipython",
    "version": 3
   },
   "file_extension": ".py",
   "mimetype": "text/x-python",
   "name": "python",
   "nbconvert_exporter": "python",
   "pygments_lexer": "ipython3",
   "version": "3.8.8"
  }
 },
 "nbformat": 4,
 "nbformat_minor": 5
}
